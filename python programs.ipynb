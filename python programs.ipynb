{
 "cells": [
  {
   "cell_type": "markdown",
   "id": "556cdf1a",
   "metadata": {},
   "source": [
    "- Write a program to print the given number is odd or even.\n",
    "- Write a program to find the given number is positive or negative.\n",
    "- Write a program to find the sum of two numbers.\n",
    "- Write a program to find if the given number is prime or not.\n",
    "- Write a program to check if the given number is palindrome or not.\n",
    "- Write a program to check if the given number is Armstrong or not.\n",
    "- Write a program to check if the given strings are anagram or not.\n",
    "- Write a program to find a maximum of two numbers.\n",
    "- Write a program to find a minimum of two numbers.\n",
    "- Write a program to find a maximum of three numbers.\n",
    "- Write a program to find a minimum of three numbers.\n",
    "- Write a program to find a factorial of a number.\n",
    "- Write a program to find a fibonacci of a number.\n",
    "- Write a program to find GCD of two numbers.\n",
    "- Write a Python program to find the largest element in a list.\n",
    "- Write a Python program to count the frequency of each element in a list.\n",
    "- Write a Python program to check if a number is prime.\n",
    "- Write a Python program to find the common elements between two lists.\n",
    "- Write a Python program to sort a list of elements using the bubble sort algorithm.\n",
    "- Write a Python program to find the second largest number in a list.\n",
    "- Write a Python program to remove duplicates from a list.\n"
   ]
  },
  {
   "cell_type": "code",
   "execution_count": 7,
   "id": "4fd17a1d",
   "metadata": {},
   "outputs": [
    {
     "name": "stdout",
     "output_type": "stream",
     "text": [
      "odd\n"
     ]
    }
   ],
   "source": [
    "# Write a program to print the given number is odd or even.\n",
    "\n",
    "def oddeven(a):\n",
    "    if a%2==0:\n",
    "        print('even')\n",
    "    else:\n",
    "        print('odd')\n",
    "        \n",
    "oddeven(5)"
   ]
  },
  {
   "cell_type": "code",
   "execution_count": 3,
   "id": "74db442a",
   "metadata": {},
   "outputs": [
    {
     "name": "stdout",
     "output_type": "stream",
     "text": [
      "positive\n"
     ]
    }
   ],
   "source": [
    "# Write a program to find the given number is positive or negative.\n",
    "\n",
    "def posneg(n):\n",
    "    if n>=0:\n",
    "        print('positive')\n",
    "    elif n<0:\n",
    "        print('negative')\n",
    "        \n",
    "posneg(0)"
   ]
  },
  {
   "cell_type": "code",
   "execution_count": 5,
   "id": "6286e491",
   "metadata": {},
   "outputs": [
    {
     "name": "stdout",
     "output_type": "stream",
     "text": [
      "8\n"
     ]
    }
   ],
   "source": [
    "# Write a program to find the sum of two numbers.\n",
    "\n",
    "def sum(a,b):\n",
    "    s = a+b\n",
    "    print(s)\n",
    "    \n",
    "sum(3,5)"
   ]
  },
  {
   "cell_type": "code",
   "execution_count": 8,
   "id": "8e7e9aed",
   "metadata": {},
   "outputs": [
    {
     "name": "stdout",
     "output_type": "stream",
     "text": [
      "prime\n"
     ]
    }
   ],
   "source": [
    "# Write a program to find if the given number is prime or not.\n",
    "\n",
    "\n",
    "def prime(a):\n",
    "    flag=False\n",
    "    for i in range(2,a):\n",
    "        if (a%i)==0:\n",
    "            flag= True\n",
    "        break\n",
    "    if flag ==False:\n",
    "        print('prime')\n",
    "    else:\n",
    "        print('not prime')\n",
    "    \n",
    "prime(79)\n",
    "    "
   ]
  },
  {
   "cell_type": "code",
   "execution_count": 25,
   "id": "6793301a",
   "metadata": {},
   "outputs": [
    {
     "name": "stdout",
     "output_type": "stream",
     "text": [
      "not palindrome\n"
     ]
    }
   ],
   "source": [
    "# Write a program to check if the given number is palindrome or not.\n",
    "\n",
    "def pal(a):\n",
    "    string = str(a)\n",
    "    rev = string[::-1]\n",
    "    if rev == string:\n",
    "        print('palindrome')\n",
    "    else:\n",
    "        print('not palindrome')\n",
    "        \n",
    "pal(1312)"
   ]
  },
  {
   "cell_type": "code",
   "execution_count": 12,
   "id": "17d3b8e1",
   "metadata": {},
   "outputs": [
    {
     "name": "stdout",
     "output_type": "stream",
     "text": [
      "arms\n"
     ]
    }
   ],
   "source": [
    "# Write a program to check if the given number is Armstrong or not.\n",
    "\n",
    "def armst(num):\n",
    "    sum=0\n",
    "    temp=num\n",
    "    while temp>0:\n",
    "        digit=temp%10\n",
    "        sum += digit**3\n",
    "        temp //= 10\n",
    "    if sum==num:\n",
    "        print('arms')\n",
    "    else:\n",
    "        print('legs')\n",
    "        \n",
    "armst(153)"
   ]
  },
  {
   "cell_type": "code",
   "execution_count": 31,
   "id": "dfae5793",
   "metadata": {},
   "outputs": [
    {
     "name": "stdout",
     "output_type": "stream",
     "text": [
      "enter string 1heart\n",
      "enter string 2earth\n",
      "anagram strings\n"
     ]
    }
   ],
   "source": [
    "# Write a program to check if the given strings are anagram or not.\n",
    "\n",
    "def check(s1,s2):\n",
    "    if (sorted(s1) == sorted(s2)):\n",
    "        print('anagram strings')\n",
    "    else:\n",
    "        print('not angram')\n",
    "        \n",
    "s1 = input(\"enter string 1\")\n",
    "s2 = input(\"enter string 2\")\n",
    "\n",
    "check(s1,s2)"
   ]
  },
  {
   "cell_type": "code",
   "execution_count": 35,
   "id": "c1cc298d",
   "metadata": {},
   "outputs": [
    {
     "name": "stdout",
     "output_type": "stream",
     "text": [
      "num1: 6\n",
      "num2: 2\n",
      "6\n"
     ]
    }
   ],
   "source": [
    "# Write a program to find a maximum of two numbers.\n",
    "\n",
    "def maximum(a,b):\n",
    "    maxi = max(a,b)\n",
    "    print(maxi)\n",
    "    \n",
    "a= int(input('num1: '))\n",
    "b= int(input('num2: '))\n",
    "\n",
    "maximum(a,b)"
   ]
  },
  {
   "cell_type": "code",
   "execution_count": 37,
   "id": "4f6080dd",
   "metadata": {},
   "outputs": [
    {
     "name": "stdout",
     "output_type": "stream",
     "text": [
      "num1: 2\n",
      "num2: 54\n",
      "2\n"
     ]
    }
   ],
   "source": [
    "# Write a program to find a minimum of two numbers.\n",
    "\n",
    "def minimum(a,b):\n",
    "    mini = min(a,b)\n",
    "    print(mini)\n",
    "    \n",
    "a= int(input('num1: '))\n",
    "b= int(input('num2: '))\n",
    "\n",
    "minimum(a,b)"
   ]
  },
  {
   "cell_type": "code",
   "execution_count": 14,
   "id": "a39fd9f7",
   "metadata": {},
   "outputs": [
    {
     "name": "stdout",
     "output_type": "stream",
     "text": [
      "num1: 1.23432\n",
      "num2: 1.243343\n",
      "num3: 1.3424225\n",
      "1.3424225\n"
     ]
    }
   ],
   "source": [
    "# Write a program to find a maximum of three numbers.\n",
    "def max3(a,b,c):\n",
    "    max1 = max(a,b,c)\n",
    "#     max2 = max(max1,c)\n",
    "    print(max1)\n",
    "    \n",
    "a= float(input('num1: '))\n",
    "b= float(input('num2: '))\n",
    "c= float(input('num3: '))\n",
    "\n",
    "max3(a,b,c)"
   ]
  },
  {
   "cell_type": "code",
   "execution_count": 44,
   "id": "c0adfef0",
   "metadata": {},
   "outputs": [
    {
     "data": {
      "text/plain": [
       "120"
      ]
     },
     "execution_count": 44,
     "metadata": {},
     "output_type": "execute_result"
    }
   ],
   "source": [
    "# Write a program to find a factorial of a number.\n",
    "\n",
    "def factorial(n):\n",
    "    if n == 0:\n",
    "        return 1\n",
    "    else:\n",
    "        return n * factorial(n-1)\n",
    "\n",
    "factorial(5)"
   ]
  },
  {
   "cell_type": "code",
   "execution_count": 48,
   "id": "11c01be9",
   "metadata": {},
   "outputs": [
    {
     "name": "stdout",
     "output_type": "stream",
     "text": [
      "enter limit: 2\n",
      "Fibonacci Series: [0, 1]\n"
     ]
    }
   ],
   "source": [
    "# Write a program to find a fibonacci of a number.\n",
    "\n",
    "def fib(n):\n",
    "    a,b= 0,1\n",
    "    if n<= 0:\n",
    "        print('error')\n",
    "    elif n== 1:\n",
    "        print(a)\n",
    "    else:\n",
    "        fib_series = [0, 1]        \n",
    "        for i in range(2, n):\n",
    "            c = a + b\n",
    "            a = b\n",
    "            b = c\n",
    "            fib_series.append(c)\n",
    "        \n",
    "        print(\"Fibonacci Series:\", fib_series)\n",
    "        \n",
    "        \n",
    "n = int(input('enter limit: '))\n",
    "fib(n)"
   ]
  },
  {
   "cell_type": "code",
   "execution_count": 52,
   "id": "b9707ba8",
   "metadata": {},
   "outputs": [
    {
     "data": {
      "text/plain": [
       "33"
      ]
     },
     "execution_count": 52,
     "metadata": {},
     "output_type": "execute_result"
    }
   ],
   "source": [
    "# Write a Python program to find the largest element in a list.\n",
    "def largest_elem(num):\n",
    "    largest = num[0]\n",
    "    for n in num:\n",
    "        if n>largest:\n",
    "            largest = n\n",
    "    return largest\n",
    "\n",
    "num = [2,4,6,33,21,1]\n",
    "largest_elem(num)"
   ]
  },
  {
   "cell_type": "code",
   "execution_count": 55,
   "id": "402576b1",
   "metadata": {},
   "outputs": [
    {
     "name": "stdout",
     "output_type": "stream",
     "text": [
      "{1: 3, 2: 2, 4: 3, 5: 1, 6: 1, 3: 1}\n"
     ]
    }
   ],
   "source": [
    "# Write a Python program to count the frequency of each element in a list.\n",
    "\n",
    "def freq(num):\n",
    "    frequency={}\n",
    "    for n in num:\n",
    "        if n in frequency:\n",
    "            frequency[n] +=1\n",
    "        else:\n",
    "            frequency[n] = 1\n",
    "    return frequency\n",
    "\n",
    "nums = [1,2,2,4,1,1,4,5,6,4,3]\n",
    "frequenc = freq(nums)\n",
    "print(frequenc)"
   ]
  },
  {
   "cell_type": "code",
   "execution_count": 3,
   "id": "3451cdc2",
   "metadata": {},
   "outputs": [
    {
     "name": "stdout",
     "output_type": "stream",
     "text": [
      "[2, 2, 4]\n"
     ]
    }
   ],
   "source": [
    "# Write a Python program to find the common elements between two lists.\n",
    "\n",
    "def find_common_elements(list1, list2):\n",
    "    common_elements = []\n",
    "    for item in list1:\n",
    "        if item in list2:\n",
    "            common_elements.append(item)\n",
    "    return common_elements\n",
    "\n",
    "lista=[1,2,2,4,3]\n",
    "listb=[2,4,5,8,6]\n",
    "common = find_common_elements(lista, listb)\n",
    "print(common)"
   ]
  },
  {
   "cell_type": "code",
   "execution_count": 4,
   "id": "be89d7c2",
   "metadata": {},
   "outputs": [
    {
     "name": "stdout",
     "output_type": "stream",
     "text": [
      "[1, 2, 5, 8, 9]\n"
     ]
    }
   ],
   "source": [
    "# Write a Python program to sort a list of elements using the bubble sort algorithm.\n",
    "\n",
    "def bubble_sort(elements):\n",
    "    n = len(elements)\n",
    "    for i in range(n - 1):\n",
    "        for j in range(n - i - 1):\n",
    "            if elements[j] > elements[j + 1]:\n",
    "                elements[j], elements[j + 1] = elements[j + 1], elements[j]\n",
    "\n",
    "\n",
    "nums = [5, 2, 8, 1, 9]\n",
    "bubble_sort(nums)\n",
    "print(nums)"
   ]
  },
  {
   "cell_type": "code",
   "execution_count": 5,
   "id": "0168e66e",
   "metadata": {},
   "outputs": [
    {
     "name": "stdout",
     "output_type": "stream",
     "text": [
      "The second largest number is 10\n"
     ]
    }
   ],
   "source": [
    "# Write a Python program to find the second largest number in a list.\n",
    "\n",
    "def find_second_largest(numbers):\n",
    "    largest = float('-inf')\n",
    "    second_largest = float('-inf')\n",
    "    for num in numbers:\n",
    "        if num > largest:\n",
    "            second_largest = largest\n",
    "            largest = num\n",
    "        elif num > second_largest and num != largest:\n",
    "            second_largest = num\n",
    "    return second_largest\n",
    "\n",
    "# Test the function\n",
    "nums = [10, 5, 8, 20, 3]\n",
    "second_largest_num = find_second_largest(nums)\n",
    "print(f\"The second largest number is {second_largest_num}\")"
   ]
  },
  {
   "cell_type": "code",
   "execution_count": 6,
   "id": "748ba08f",
   "metadata": {},
   "outputs": [
    {
     "name": "stdout",
     "output_type": "stream",
     "text": [
      "[1, 2, 3, 4, 5]\n"
     ]
    }
   ],
   "source": [
    "# Write a Python program to remove duplicates from a list.\n",
    "\n",
    "def remove_duplicates(numbers):\n",
    "    unique_numbers = []\n",
    "    for num in numbers:\n",
    "        if num not in unique_numbers:\n",
    "            unique_numbers.append(num)\n",
    "    return unique_numbers\n",
    "\n",
    "# Test the function\n",
    "nums = [1, 2, 3, 2, 1, 3, 2, 4, 5, 4]\n",
    "unique_nums = remove_duplicates(nums)\n",
    "print(unique_nums)"
   ]
  },
  {
   "cell_type": "code",
   "execution_count": 60,
   "id": "22a7f2f2",
   "metadata": {},
   "outputs": [
    {
     "name": "stdout",
     "output_type": "stream",
     "text": [
      "4\n"
     ]
    }
   ],
   "source": [
    "# \"P r ogramm in Q\" count space in this string\n",
    "\n",
    "string = \"P r ogramm in Q\"\n",
    "count = 0\n",
    "for word in string:\n",
    "    if word == ' ':\n",
    "        count +=1\n",
    "print((count))"
   ]
  },
  {
   "cell_type": "code",
   "execution_count": 65,
   "id": "7fab27b4",
   "metadata": {},
   "outputs": [
    {
     "name": "stdout",
     "output_type": "stream",
     "text": [
      "Number of Elements to take average of: 7\n",
      "Enter element 1: 1\n",
      "Enter element 2: 3\n",
      "Enter element 3: 4\n",
      "Enter element 4: 5\n",
      "Enter element 5: 6\n",
      "Enter element 6: 7\n",
      "Enter element 7: 9\n",
      "Average of the elements in the list: 5.0\n"
     ]
    }
   ],
   "source": [
    "# Python program that calculates the mean of numbers in a list, num of elements to be input by user\n",
    "\n",
    "\n",
    "def mean(n):\n",
    "    l = []\n",
    "    for i in range(n):\n",
    "        elem = float(input(\"Enter element {}: \".format(i+1)))\n",
    "        l.append(elem)\n",
    "    average = sum(l) / n\n",
    "    print(\"Average of the elements in the list:\", round(average, 2))\n",
    "\n",
    "# Taking input from the user for the number of elements\n",
    "num_elements = int(input(\"Number of Elements to take average of: \"))\n",
    "mean(num_elements)\n",
    "\n",
    "    "
   ]
  },
  {
   "cell_type": "code",
   "execution_count": 56,
   "id": "6323ec60",
   "metadata": {},
   "outputs": [
    {
     "name": "stderr",
     "output_type": "stream",
     "text": [
      "15:06:38: Main    : before creating thread\n",
      "15:06:38: Main    : before running thread\n",
      "15:06:38: Main    : wait for the thread to finish\n",
      "15:06:38: Thread 1: starting\n",
      "15:06:38: Main    : all done\n",
      "15:06:40: Thread 1: finishing\n"
     ]
    }
   ],
   "source": [
    "import logging\n",
    "import threading\n",
    "import time\n",
    "\n",
    "def thread_function(name):\n",
    "    logging.info(\"Thread %s: starting\", name)\n",
    "    time.sleep(2)\n",
    "    logging.info(\"Thread %s: finishing\", name)\n",
    "\n",
    "if __name__ == \"__main__\":\n",
    "    format = \"%(asctime)s: %(message)s\"\n",
    "    logging.basicConfig(format=format, level=logging.INFO,\n",
    "                        datefmt=\"%H:%M:%S\")\n",
    "\n",
    "    logging.info(\"Main    : before creating thread\")\n",
    "    x = threading.Thread(target=thread_function, args=(1,))\n",
    "    logging.info(\"Main    : before running thread\")\n",
    "    x.start()\n",
    "    logging.info(\"Main    : wait for the thread to finish\")\n",
    "    # x.join()\n",
    "    logging.info(\"Main    : all done\")"
   ]
  },
  {
   "cell_type": "code",
   "execution_count": 57,
   "id": "22f909b8",
   "metadata": {},
   "outputs": [
    {
     "name": "stderr",
     "output_type": "stream",
     "text": [
      "15:06:53: Thread 1: starting\n",
      "15:06:55: Thread 1: finishing\n"
     ]
    }
   ],
   "source": [
    "x = threading.Thread(target=thread_function, args=(1,))\n",
    "x.start()"
   ]
  },
  {
   "cell_type": "code",
   "execution_count": 58,
   "id": "7e863f9d",
   "metadata": {},
   "outputs": [
    {
     "name": "stdout",
     "output_type": "stream",
     "text": [
      "Time taken in seconds - 2.892580032348633\n"
     ]
    }
   ],
   "source": [
    "import time\n",
    "from threading import Thread\n",
    "\n",
    "COUNT = 50000000\n",
    "\n",
    "def countdown(n):\n",
    "    while n>0:\n",
    "        n -= 1\n",
    "\n",
    "start = time.time()\n",
    "countdown(COUNT)\n",
    "end = time.time()\n",
    "\n",
    "print('Time taken in seconds -', end - start)"
   ]
  },
  {
   "cell_type": "code",
   "execution_count": 59,
   "id": "9e20e073",
   "metadata": {},
   "outputs": [
    {
     "name": "stdout",
     "output_type": "stream",
     "text": [
      "Time taken in seconds - 2.76987886428833\n"
     ]
    }
   ],
   "source": [
    "import time\n",
    "from threading import Thread\n",
    "\n",
    "COUNT = 50000000\n",
    "\n",
    "def countdown(n):\n",
    "    while n>0:\n",
    "        n -= 1\n",
    "\n",
    "t1 = Thread(target=countdown, args=(COUNT//2,))\n",
    "t2 = Thread(target=countdown, args=(COUNT//2,))\n",
    "\n",
    "start = time.time()\n",
    "t1.start()\n",
    "t2.start()\n",
    "t1.join()\n",
    "t2.join()\n",
    "end = time.time()\n",
    "\n",
    "print('Time taken in seconds -', end - start)"
   ]
  },
  {
   "cell_type": "code",
   "execution_count": 1,
   "id": "4144d616",
   "metadata": {},
   "outputs": [
    {
     "ename": "SyntaxError",
     "evalue": "invalid syntax (2830201818.py, line 1)",
     "output_type": "error",
     "traceback": [
      "\u001b[0;36m  Cell \u001b[0;32mIn[1], line 1\u001b[0;36m\u001b[0m\n\u001b[0;31m    git init\u001b[0m\n\u001b[0m        ^\u001b[0m\n\u001b[0;31mSyntaxError\u001b[0m\u001b[0;31m:\u001b[0m invalid syntax\n"
     ]
    }
   ],
   "source": [
    "git init"
   ]
  },
  {
   "cell_type": "code",
   "execution_count": null,
   "id": "f468f84c",
   "metadata": {},
   "outputs": [],
   "source": []
  }
 ],
 "metadata": {
  "kernelspec": {
   "display_name": "Python 3 (ipykernel)",
   "language": "python",
   "name": "python3"
  },
  "language_info": {
   "codemirror_mode": {
    "name": "ipython",
    "version": 3
   },
   "file_extension": ".py",
   "mimetype": "text/x-python",
   "name": "python",
   "nbconvert_exporter": "python",
   "pygments_lexer": "ipython3",
   "version": "3.10.9"
  }
 },
 "nbformat": 4,
 "nbformat_minor": 5
}
